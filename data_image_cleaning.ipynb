{
 "cells": [
  {
   "cell_type": "code",
   "execution_count": 1,
   "metadata": {},
   "outputs": [],
   "source": [
    "import glob\n",
    "import re\n",
    "\n",
    "# import cv2\n",
    "import pandas as pd\n",
    "# import matplotlib.pyplot as plt"
   ]
  },
  {
   "cell_type": "code",
   "execution_count": null,
   "metadata": {},
   "outputs": [],
   "source": [
    "# download hart16 files from: https://data.galaxyzoo.org/#section-12\n",
    "# download images and mapping from: https://zenodo.org/record/3565489#.Y3vFKS-l0eY\n",
    "FILENAME_MAPPINGS = \"data/gz2_filename_mapping.csv\"\n",
    "HART16 = \"data/gz2_hart16.csv\"\n",
    "\n",
    "ORIGINAL_IMAGES_DIR = \"data/images/\"\n",
    "PROCESSED_IMAGES_DIR = \"data/images_processed/\""
   ]
  },
  {
   "cell_type": "markdown",
   "metadata": {},
   "source": [
    "## Process CSV Files"
   ]
  },
  {
   "cell_type": "code",
   "execution_count": 3,
   "metadata": {},
   "outputs": [],
   "source": [
    "# dtypes for Hart columns\n",
    "# note, objid column must use Int64, int is too small\n",
    "dtype_hart = {\n",
    "    \"dr7objid\": \"Int64\",\n",
    "    \"ra\": float,\n",
    "    \"dec\": float,\n",
    "    \"rastring\": str,\n",
    "    \"decstring\": str,\n",
    "    \"sample\": str,\n",
    "    \"gz2_class\": str,\n",
    "    \"total_classifications\": int,\n",
    "    \"total_votes\": int,\n",
    "    \"t01_smooth_or_features_a01_smooth_count\": int,\n",
    "    \"t01_smooth_or_features_a01_smooth_weight\": float,\n",
    "    \"t01_smooth_or_features_a01_smooth_fraction\": float,\n",
    "    \"t01_smooth_or_features_a01_smooth_weighted_fraction\": float,\n",
    "    \"t01_smooth_or_features_a01_smooth_debiased\": float,\n",
    "    \"t01_smooth_or_features_a01_smooth_flag\": int,\n",
    "    \"t01_smooth_or_features_a02_features_or_disk_count\": int,\n",
    "    \"t01_smooth_or_features_a02_features_or_disk_weight\": float,\n",
    "    \"t01_smooth_or_features_a02_features_or_disk_fraction\": float,\n",
    "    \"t01_smooth_or_features_a02_features_or_disk_weighted_fraction\": float,\n",
    "    \"t01_smooth_or_features_a02_features_or_disk_debiased\": float,\n",
    "    \"t01_smooth_or_features_a02_features_or_disk_flag\": int,\n",
    "    \"t01_smooth_or_features_a03_star_or_artifact_count\": int,\n",
    "    \"t01_smooth_or_features_a03_star_or_artifact_weight\": float,\n",
    "    \"t01_smooth_or_features_a03_star_or_artifact_fraction\": float,\n",
    "    \"t01_smooth_or_features_a03_star_or_artifact_weighted_fraction\": float,\n",
    "    \"t01_smooth_or_features_a03_star_or_artifact_debiased\": float,\n",
    "    \"t01_smooth_or_features_a03_star_or_artifact_flag\": int,\n",
    "    \"t02_edgeon_a04_yes_count\": int,\n",
    "    \"t02_edgeon_a04_yes_weight\": float,\n",
    "    \"t02_edgeon_a04_yes_fraction\": float,\n",
    "    \"t02_edgeon_a04_yes_weighted_fraction\": float,\n",
    "    \"t02_edgeon_a04_yes_debiased\": float,\n",
    "    \"t02_edgeon_a04_yes_flag\": int,\n",
    "    \"t02_edgeon_a05_no_count\": int,\n",
    "    \"t02_edgeon_a05_no_weight\": float,\n",
    "    \"t02_edgeon_a05_no_fraction\": float,\n",
    "    \"t02_edgeon_a05_no_weighted_fraction\": float,\n",
    "    \"t02_edgeon_a05_no_debiased\": float,\n",
    "    \"t02_edgeon_a05_no_flag\": int,\n",
    "    \"t03_bar_a06_bar_count\": int,\n",
    "    \"t03_bar_a06_bar_weight\": float,\n",
    "    \"t03_bar_a06_bar_fraction\": float,\n",
    "    \"t03_bar_a06_bar_weighted_fraction\": float,\n",
    "    \"t03_bar_a06_bar_debiased\": float,\n",
    "    \"t03_bar_a06_bar_flag\": int,\n",
    "    \"t03_bar_a07_no_bar_count\": int,\n",
    "    \"t03_bar_a07_no_bar_weight\": float,\n",
    "    \"t03_bar_a07_no_bar_fraction\": float,\n",
    "    \"t03_bar_a07_no_bar_weighted_fraction\": float,\n",
    "    \"t03_bar_a07_no_bar_debiased\": float,\n",
    "    \"t03_bar_a07_no_bar_flag\": int,\n",
    "    \"t04_spiral_a08_spiral_count\": int,\n",
    "    \"t04_spiral_a08_spiral_weight\": float,\n",
    "    \"t04_spiral_a08_spiral_fraction\": float,\n",
    "    \"t04_spiral_a08_spiral_weighted_fraction\": float,\n",
    "    \"t04_spiral_a08_spiral_debiased\": float,\n",
    "    \"t04_spiral_a08_spiral_flag\": int,\n",
    "    \"t04_spiral_a09_no_spiral_count\": int,\n",
    "    \"t04_spiral_a09_no_spiral_weight\": float,\n",
    "    \"t04_spiral_a09_no_spiral_fraction\": float,\n",
    "    \"t04_spiral_a09_no_spiral_weighted_fraction\": float,\n",
    "    \"t04_spiral_a09_no_spiral_debiased\": float,\n",
    "    \"t04_spiral_a09_no_spiral_flag\": int,\n",
    "    \"t05_bulge_prominence_a10_no_bulge_count\": int,\n",
    "    \"t05_bulge_prominence_a10_no_bulge_weight\": float,\n",
    "    \"t05_bulge_prominence_a10_no_bulge_fraction\": float,\n",
    "    \"t05_bulge_prominence_a10_no_bulge_weighted_fraction\": float,\n",
    "    \"t05_bulge_prominence_a10_no_bulge_debiased\": float,\n",
    "    \"t05_bulge_prominence_a10_no_bulge_flag\": int,\n",
    "    \"t05_bulge_prominence_a11_just_noticeable_count\": int,\n",
    "    \"t05_bulge_prominence_a11_just_noticeable_weight\": float,\n",
    "    \"t05_bulge_prominence_a11_just_noticeable_fraction\": float,\n",
    "    \"t05_bulge_prominence_a11_just_noticeable_weighted_fraction\": float,\n",
    "    \"t05_bulge_prominence_a11_just_noticeable_debiased\": float,\n",
    "    \"t05_bulge_prominence_a11_just_noticeable_flag\": int,\n",
    "    \"t05_bulge_prominence_a12_obvious_count\": int,\n",
    "    \"t05_bulge_prominence_a12_obvious_weight\": float,\n",
    "    \"t05_bulge_prominence_a12_obvious_fraction\": float,\n",
    "    \"t05_bulge_prominence_a12_obvious_weighted_fraction\": float,\n",
    "    \"t05_bulge_prominence_a12_obvious_debiased\": float,\n",
    "    \"t05_bulge_prominence_a12_obvious_flag\": int,\n",
    "    \"t05_bulge_prominence_a13_dominant_count\": int,\n",
    "    \"t05_bulge_prominence_a13_dominant_weight\": float,\n",
    "    \"t05_bulge_prominence_a13_dominant_fraction\": float,\n",
    "    \"t05_bulge_prominence_a13_dominant_weighted_fraction\": float,\n",
    "    \"t05_bulge_prominence_a13_dominant_debiased\": float,\n",
    "    \"t05_bulge_prominence_a13_dominant_flag\": int,\n",
    "    \"t06_odd_a14_yes_count\": int,\n",
    "    \"t06_odd_a14_yes_weight\": float,\n",
    "    \"t06_odd_a14_yes_fraction\": float,\n",
    "    \"t06_odd_a14_yes_weighted_fraction\": float,\n",
    "    \"t06_odd_a14_yes_debiased\": float,\n",
    "    \"t06_odd_a14_yes_flag\": int,\n",
    "    \"t06_odd_a15_no_count\": int,\n",
    "    \"t06_odd_a15_no_weight\": float,\n",
    "    \"t06_odd_a15_no_fraction\": float,\n",
    "    \"t06_odd_a15_no_weighted_fraction\": float,\n",
    "    \"t06_odd_a15_no_debiased\": float,\n",
    "    \"t06_odd_a15_no_flag\": int,\n",
    "    \"t07_rounded_a16_completely_round_count\": int,\n",
    "    \"t07_rounded_a16_completely_round_weight\": float,\n",
    "    \"t07_rounded_a16_completely_round_fraction\": float,\n",
    "    \"t07_rounded_a16_completely_round_weighted_fraction\": float,\n",
    "    \"t07_rounded_a16_completely_round_debiased\": float,\n",
    "    \"t07_rounded_a16_completely_round_flag\": int,\n",
    "    \"t07_rounded_a17_in_between_count\": int,\n",
    "    \"t07_rounded_a17_in_between_weight\": float,\n",
    "    \"t07_rounded_a17_in_between_fraction\": float,\n",
    "    \"t07_rounded_a17_in_between_weighted_fraction\": float,\n",
    "    \"t07_rounded_a17_in_between_debiased\": float,\n",
    "    \"t07_rounded_a17_in_between_flag\": int,\n",
    "    \"t07_rounded_a18_cigar_shaped_count\": int,\n",
    "    \"t07_rounded_a18_cigar_shaped_weight\": float,\n",
    "    \"t07_rounded_a18_cigar_shaped_fraction\": float,\n",
    "    \"t07_rounded_a18_cigar_shaped_weighted_fraction\": float,\n",
    "    \"t07_rounded_a18_cigar_shaped_debiased\": float,\n",
    "    \"t07_rounded_a18_cigar_shaped_flag\": int,\n",
    "    \"t08_odd_feature_a19_ring_count\": int,\n",
    "    \"t08_odd_feature_a19_ring_weight\": float,\n",
    "    \"t08_odd_feature_a19_ring_fraction\": float,\n",
    "    \"t08_odd_feature_a19_ring_weighted_fraction\": float,\n",
    "    \"t08_odd_feature_a19_ring_debiased\": float,\n",
    "    \"t08_odd_feature_a19_ring_flag\": int,\n",
    "    \"t08_odd_feature_a20_lens_or_arc_count\": int,\n",
    "    \"t08_odd_feature_a20_lens_or_arc_weight\": float,\n",
    "    \"t08_odd_feature_a20_lens_or_arc_fraction\": float,\n",
    "    \"t08_odd_feature_a20_lens_or_arc_weighted_fraction\": float,\n",
    "    \"t08_odd_feature_a20_lens_or_arc_debiased\": float,\n",
    "    \"t08_odd_feature_a20_lens_or_arc_flag\": int,\n",
    "    \"t08_odd_feature_a21_disturbed_count\": int,\n",
    "    \"t08_odd_feature_a21_disturbed_weight\": float,\n",
    "    \"t08_odd_feature_a21_disturbed_fraction\": float,\n",
    "    \"t08_odd_feature_a21_disturbed_weighted_fraction\": float,\n",
    "    \"t08_odd_feature_a21_disturbed_debiased\": float,\n",
    "    \"t08_odd_feature_a21_disturbed_flag\": int,\n",
    "    \"t08_odd_feature_a22_irregular_count\": int,\n",
    "    \"t08_odd_feature_a22_irregular_weight\": float,\n",
    "    \"t08_odd_feature_a22_irregular_fraction\": float,\n",
    "    \"t08_odd_feature_a22_irregular_weighted_fraction\": float,\n",
    "    \"t08_odd_feature_a22_irregular_debiased\": float,\n",
    "    \"t08_odd_feature_a22_irregular_flag\": int,\n",
    "    \"t08_odd_feature_a23_other_count\": int,\n",
    "    \"t08_odd_feature_a23_other_weight\": float,\n",
    "    \"t08_odd_feature_a23_other_fraction\": float,\n",
    "    \"t08_odd_feature_a23_other_weighted_fraction\": float,\n",
    "    \"t08_odd_feature_a23_other_debiased\": float,\n",
    "    \"t08_odd_feature_a23_other_flag\": int,\n",
    "    \"t08_odd_feature_a24_merger_count\": int,\n",
    "    \"t08_odd_feature_a24_merger_weight\": float,\n",
    "    \"t08_odd_feature_a24_merger_fraction\": float,\n",
    "    \"t08_odd_feature_a24_merger_weighted_fraction\": float,\n",
    "    \"t08_odd_feature_a24_merger_debiased\": float,\n",
    "    \"t08_odd_feature_a24_merger_flag\": int,\n",
    "    \"t08_odd_feature_a38_dust_lane_count\": int,\n",
    "    \"t08_odd_feature_a38_dust_lane_weight\": float,\n",
    "    \"t08_odd_feature_a38_dust_lane_fraction\": float,\n",
    "    \"t08_odd_feature_a38_dust_lane_weighted_fraction\": float,\n",
    "    \"t08_odd_feature_a38_dust_lane_debiased\": float,\n",
    "    \"t08_odd_feature_a38_dust_lane_flag\": int,\n",
    "    \"t09_bulge_shape_a25_rounded_count\": int,\n",
    "    \"t09_bulge_shape_a25_rounded_weight\": float,\n",
    "    \"t09_bulge_shape_a25_rounded_fraction\": float,\n",
    "    \"t09_bulge_shape_a25_rounded_weighted_fraction\": float,\n",
    "    \"t09_bulge_shape_a25_rounded_debiased\": float,\n",
    "    \"t09_bulge_shape_a25_rounded_flag\": int,\n",
    "    \"t09_bulge_shape_a26_boxy_count\": int,\n",
    "    \"t09_bulge_shape_a26_boxy_weight\": float,\n",
    "    \"t09_bulge_shape_a26_boxy_fraction\": float,\n",
    "    \"t09_bulge_shape_a26_boxy_weighted_fraction\": float,\n",
    "    \"t09_bulge_shape_a26_boxy_debiased\": float,\n",
    "    \"t09_bulge_shape_a26_boxy_flag\": int,\n",
    "    \"t09_bulge_shape_a27_no_bulge_count\": int,\n",
    "    \"t09_bulge_shape_a27_no_bulge_weight\": float,\n",
    "    \"t09_bulge_shape_a27_no_bulge_fraction\": float,\n",
    "    \"t09_bulge_shape_a27_no_bulge_weighted_fraction\": float,\n",
    "    \"t09_bulge_shape_a27_no_bulge_debiased\": float,\n",
    "    \"t09_bulge_shape_a27_no_bulge_flag\": int,\n",
    "    \"t10_arms_winding_a28_tight_count\": int,\n",
    "    \"t10_arms_winding_a28_tight_weight\": float,\n",
    "    \"t10_arms_winding_a28_tight_fraction\": float,\n",
    "    \"t10_arms_winding_a28_tight_weighted_fraction\": float,\n",
    "    \"t10_arms_winding_a28_tight_debiased\": float,\n",
    "    \"t10_arms_winding_a28_tight_flag\": int,\n",
    "    \"t10_arms_winding_a29_medium_count\": int,\n",
    "    \"t10_arms_winding_a29_medium_weight\": float,\n",
    "    \"t10_arms_winding_a29_medium_fraction\": float,\n",
    "    \"t10_arms_winding_a29_medium_weighted_fraction\": float,\n",
    "    \"t10_arms_winding_a29_medium_debiased\": float,\n",
    "    \"t10_arms_winding_a29_medium_flag\": int,\n",
    "    \"t10_arms_winding_a30_loose_count\": int,\n",
    "    \"t10_arms_winding_a30_loose_weight\": float,\n",
    "    \"t10_arms_winding_a30_loose_fraction\": float,\n",
    "    \"t10_arms_winding_a30_loose_weighted_fraction\": float,\n",
    "    \"t10_arms_winding_a30_loose_debiased\": float,\n",
    "    \"t10_arms_winding_a30_loose_flag\": int,\n",
    "    \"t11_arms_number_a31_1_count\": int,\n",
    "    \"t11_arms_number_a31_1_weight\": float,\n",
    "    \"t11_arms_number_a31_1_fraction\": float,\n",
    "    \"t11_arms_number_a31_1_weighted_fraction\": float,\n",
    "    \"t11_arms_number_a31_1_debiased\": float,\n",
    "    \"t11_arms_number_a31_1_flag\": int,\n",
    "    \"t11_arms_number_a32_2_count\": int,\n",
    "    \"t11_arms_number_a32_2_weight\": float,\n",
    "    \"t11_arms_number_a32_2_fraction\": float,\n",
    "    \"t11_arms_number_a32_2_weighted_fraction\": float,\n",
    "    \"t11_arms_number_a32_2_debiased\": float,\n",
    "    \"t11_arms_number_a32_2_flag\": int,\n",
    "    \"t11_arms_number_a33_3_count\": int,\n",
    "    \"t11_arms_number_a33_3_weight\": float,\n",
    "    \"t11_arms_number_a33_3_fraction\": float,\n",
    "    \"t11_arms_number_a33_3_weighted_fraction\": float,\n",
    "    \"t11_arms_number_a33_3_debiased\": float,\n",
    "    \"t11_arms_number_a33_3_flag\": int,\n",
    "    \"t11_arms_number_a34_4_count\": int,\n",
    "    \"t11_arms_number_a34_4_weight\": float,\n",
    "    \"t11_arms_number_a34_4_fraction\": float,\n",
    "    \"t11_arms_number_a34_4_weighted_fraction\": float,\n",
    "    \"t11_arms_number_a34_4_debiased\": float,\n",
    "    \"t11_arms_number_a34_4_flag\": int,\n",
    "    \"t11_arms_number_a36_more_than_4_count\": int,\n",
    "    \"t11_arms_number_a36_more_than_4_weight\": float,\n",
    "    \"t11_arms_number_a36_more_than_4_fraction\": float,\n",
    "    \"t11_arms_number_a36_more_than_4_weighted_fraction\": float,\n",
    "    \"t11_arms_number_a36_more_than_4_debiased\": float,\n",
    "    \"t11_arms_number_a36_more_than_4_flag\": int,\n",
    "    \"t11_arms_number_a37_cant_tell_count\": int,\n",
    "    \"t11_arms_number_a37_cant_tell_weight\": float,\n",
    "    \"t11_arms_number_a37_cant_tell_fraction\": float,\n",
    "    \"t11_arms_number_a37_cant_tell_weighted_fraction\": float,\n",
    "    \"t11_arms_number_a37_cant_tell_debiased\": float,\n",
    "    \"t11_arms_number_a37_cant_tell_flag\": int\n",
    "}\n",
    "\n",
    "# columns to keep from Hart\n",
    "hart_keep = [\"dr7objid\", \"ra\", \"dec\", \"gz2_class\"]\n",
    "# Keep only debiased columns and the above 4 columns\n",
    "for col_name in dtype_hart.keys():\n",
    "    if col_name.endswith(\"_debiased\"):\n",
    "        hart_keep.append(col_name)"
   ]
  },
  {
   "cell_type": "markdown",
   "metadata": {},
   "source": [
    "### Load the CSV Files"
   ]
  },
  {
   "cell_type": "code",
   "execution_count": 4,
   "metadata": {},
   "outputs": [
    {
     "name": "stdout",
     "output_type": "stream",
     "text": [
      "<class 'pandas.core.frame.DataFrame'>\n",
      "RangeIndex: 355990 entries, 0 to 355989\n",
      "Data columns (total 3 columns):\n",
      " #   Column    Non-Null Count   Dtype \n",
      "---  ------    --------------   ----- \n",
      " 0   objid     355990 non-null  Int64 \n",
      " 1   sample    355990 non-null  object\n",
      " 2   asset_id  355990 non-null  int32 \n",
      "dtypes: Int64(1), int32(1), object(1)\n",
      "memory usage: 7.1+ MB\n"
     ]
    }
   ],
   "source": [
    "df_mappings = pd.read_csv(FILENAME_MAPPINGS,\n",
    "                          header=0,\n",
    "                          dtype={\"objid\": \"Int64\",\n",
    "                                 \"sample\": str,\n",
    "                                 \"asset_id\": int})\n",
    "df_mappings.info()"
   ]
  },
  {
   "cell_type": "code",
   "execution_count": 5,
   "metadata": {},
   "outputs": [
    {
     "name": "stdout",
     "output_type": "stream",
     "text": [
      "<class 'pandas.core.frame.DataFrame'>\n",
      "RangeIndex: 239695 entries, 0 to 239694\n",
      "Data columns (total 41 columns):\n",
      " #   Column                                                Non-Null Count   Dtype  \n",
      "---  ------                                                --------------   -----  \n",
      " 0   dr7objid                                              239695 non-null  Int64  \n",
      " 1   ra                                                    239695 non-null  float64\n",
      " 2   dec                                                   239695 non-null  float64\n",
      " 3   gz2_class                                             239695 non-null  object \n",
      " 4   t01_smooth_or_features_a01_smooth_debiased            239695 non-null  float64\n",
      " 5   t01_smooth_or_features_a02_features_or_disk_debiased  239695 non-null  float64\n",
      " 6   t01_smooth_or_features_a03_star_or_artifact_debiased  239695 non-null  float64\n",
      " 7   t02_edgeon_a04_yes_debiased                           239695 non-null  float64\n",
      " 8   t02_edgeon_a05_no_debiased                            239401 non-null  float64\n",
      " 9   t03_bar_a06_bar_debiased                              239695 non-null  float64\n",
      " 10  t03_bar_a07_no_bar_debiased                           239415 non-null  float64\n",
      " 11  t04_spiral_a08_spiral_debiased                        239695 non-null  float64\n",
      " 12  t04_spiral_a09_no_spiral_debiased                     239407 non-null  float64\n",
      " 13  t05_bulge_prominence_a10_no_bulge_debiased            239695 non-null  float64\n",
      " 14  t05_bulge_prominence_a11_just_noticeable_debiased     239695 non-null  float64\n",
      " 15  t05_bulge_prominence_a12_obvious_debiased             239695 non-null  float64\n",
      " 16  t05_bulge_prominence_a13_dominant_debiased            239492 non-null  float64\n",
      " 17  t06_odd_a14_yes_debiased                              239419 non-null  float64\n",
      " 18  t06_odd_a15_no_debiased                               239695 non-null  float64\n",
      " 19  t07_rounded_a16_completely_round_debiased             239455 non-null  float64\n",
      " 20  t07_rounded_a17_in_between_debiased                   239695 non-null  float64\n",
      " 21  t07_rounded_a18_cigar_shaped_debiased                 239695 non-null  float64\n",
      " 22  t08_odd_feature_a19_ring_debiased                     239695 non-null  float64\n",
      " 23  t08_odd_feature_a20_lens_or_arc_debiased              239695 non-null  float64\n",
      " 24  t08_odd_feature_a21_disturbed_debiased                239695 non-null  float64\n",
      " 25  t08_odd_feature_a22_irregular_debiased                239695 non-null  float64\n",
      " 26  t08_odd_feature_a23_other_debiased                    239695 non-null  float64\n",
      " 27  t08_odd_feature_a24_merger_debiased                   239695 non-null  float64\n",
      " 28  t08_odd_feature_a38_dust_lane_debiased                239684 non-null  float64\n",
      " 29  t09_bulge_shape_a25_rounded_debiased                  239595 non-null  float64\n",
      " 30  t09_bulge_shape_a26_boxy_debiased                     239655 non-null  float64\n",
      " 31  t09_bulge_shape_a27_no_bulge_debiased                 239695 non-null  float64\n",
      " 32  t10_arms_winding_a28_tight_debiased                   239695 non-null  float64\n",
      " 33  t10_arms_winding_a29_medium_debiased                  239695 non-null  float64\n",
      " 34  t10_arms_winding_a30_loose_debiased                   239695 non-null  float64\n",
      " 35  t11_arms_number_a31_1_debiased                        239689 non-null  float64\n",
      " 36  t11_arms_number_a32_2_debiased                        239675 non-null  float64\n",
      " 37  t11_arms_number_a33_3_debiased                        239695 non-null  float64\n",
      " 38  t11_arms_number_a34_4_debiased                        239695 non-null  float64\n",
      " 39  t11_arms_number_a36_more_than_4_debiased              239695 non-null  float64\n",
      " 40  t11_arms_number_a37_cant_tell_debiased                239695 non-null  float64\n",
      "dtypes: Int64(1), float64(39), object(1)\n",
      "memory usage: 75.2+ MB\n"
     ]
    }
   ],
   "source": [
    "df_hart16 = pd.read_csv(HART16,\n",
    "                        header=0,\n",
    "                        dtype=dtype_hart,\n",
    "                        usecols=hart_keep)\n",
    "df_hart16.info()"
   ]
  },
  {
   "cell_type": "markdown",
   "metadata": {},
   "source": [
    "### Check for duplicates"
   ]
  },
  {
   "cell_type": "code",
   "execution_count": 6,
   "metadata": {},
   "outputs": [
    {
     "name": "stdout",
     "output_type": "stream",
     "text": [
      "Duplicates in objID to image mapping file\n"
     ]
    },
    {
     "data": {
      "text/plain": [
       "False    325651\n",
       "True      30339\n",
       "dtype: int64"
      ]
     },
     "execution_count": 6,
     "metadata": {},
     "output_type": "execute_result"
    }
   ],
   "source": [
    "print(\"Duplicates in objID to image mapping file\")\n",
    "df_mappings.duplicated(\"objid\").value_counts()"
   ]
  },
  {
   "cell_type": "code",
   "execution_count": 7,
   "metadata": {},
   "outputs": [
    {
     "name": "stdout",
     "output_type": "stream",
     "text": [
      "Duplicates in Hart16 data file\n"
     ]
    },
    {
     "data": {
      "text/plain": [
       "False    239695\n",
       "dtype: int64"
      ]
     },
     "execution_count": 7,
     "metadata": {},
     "output_type": "execute_result"
    }
   ],
   "source": [
    "print(\"Duplicates in Hart16 data file\")\n",
    "df_hart16.duplicated(\"dr7objid\").value_counts()"
   ]
  },
  {
   "cell_type": "code",
   "execution_count": 8,
   "metadata": {},
   "outputs": [
    {
     "name": "stdout",
     "output_type": "stream",
     "text": [
      "asset_id in objid duplicates: First: 295306, Last: 355990, diff:60684, count:60678\n",
      "None of these are in the provided images\n"
     ]
    }
   ],
   "source": [
    "_dupe_df_mappings = df_mappings[df_mappings.duplicated(\"objid\", keep=False)]\\\n",
    "                                .sort_values(\"asset_id\")\\\n",
    "                                .reset_index(drop=True)\n",
    "_dupe_id_first = _dupe_df_mappings['asset_id'].iloc[0]\n",
    "_dupe_id_last = _dupe_df_mappings['asset_id'].iloc[-1]\n",
    "print(f\"asset_id in objid duplicates: First: {_dupe_id_first}, Last: {_dupe_id_last}, diff:{_dupe_id_last-_dupe_id_first}, count:{_dupe_df_mappings.shape[0]}\")\n",
    "print(\"None of these are in the provided images\")"
   ]
  },
  {
   "cell_type": "code",
   "execution_count": 9,
   "metadata": {},
   "outputs": [
    {
     "name": "stdout",
     "output_type": "stream",
     "text": [
      "Are there duplicates in mappings now?\n"
     ]
    },
    {
     "data": {
      "text/plain": [
       "False    295305\n",
       "dtype: int64"
      ]
     },
     "execution_count": 9,
     "metadata": {},
     "output_type": "execute_result"
    }
   ],
   "source": [
    "# drop rows with asset_id not in image list to remove duplicates\n",
    "df_mappings_clean = df_mappings[df_mappings[\"asset_id\"] < 295306]\n",
    "print(\"Are there duplicates in mappings now?\")\n",
    "df_mappings_clean.duplicated(\"objid\").value_counts()"
   ]
  },
  {
   "cell_type": "markdown",
   "metadata": {},
   "source": [
    "### Merge the two DataFames"
   ]
  },
  {
   "cell_type": "code",
   "execution_count": 10,
   "metadata": {},
   "outputs": [
    {
     "name": "stdout",
     "output_type": "stream",
     "text": [
      "(239695, 44)\n"
     ]
    },
    {
     "data": {
      "text/html": [
       "<div>\n",
       "<style scoped>\n",
       "    .dataframe tbody tr th:only-of-type {\n",
       "        vertical-align: middle;\n",
       "    }\n",
       "\n",
       "    .dataframe tbody tr th {\n",
       "        vertical-align: top;\n",
       "    }\n",
       "\n",
       "    .dataframe thead th {\n",
       "        text-align: right;\n",
       "    }\n",
       "</style>\n",
       "<table border=\"1\" class=\"dataframe\">\n",
       "  <thead>\n",
       "    <tr style=\"text-align: right;\">\n",
       "      <th></th>\n",
       "      <th>objid</th>\n",
       "      <th>sample</th>\n",
       "      <th>asset_id</th>\n",
       "      <th>dr7objid</th>\n",
       "      <th>ra</th>\n",
       "      <th>dec</th>\n",
       "      <th>gz2_class</th>\n",
       "      <th>t01_smooth_or_features_a01_smooth_debiased</th>\n",
       "      <th>t01_smooth_or_features_a02_features_or_disk_debiased</th>\n",
       "      <th>t01_smooth_or_features_a03_star_or_artifact_debiased</th>\n",
       "      <th>...</th>\n",
       "      <th>t09_bulge_shape_a27_no_bulge_debiased</th>\n",
       "      <th>t10_arms_winding_a28_tight_debiased</th>\n",
       "      <th>t10_arms_winding_a29_medium_debiased</th>\n",
       "      <th>t10_arms_winding_a30_loose_debiased</th>\n",
       "      <th>t11_arms_number_a31_1_debiased</th>\n",
       "      <th>t11_arms_number_a32_2_debiased</th>\n",
       "      <th>t11_arms_number_a33_3_debiased</th>\n",
       "      <th>t11_arms_number_a34_4_debiased</th>\n",
       "      <th>t11_arms_number_a36_more_than_4_debiased</th>\n",
       "      <th>t11_arms_number_a37_cant_tell_debiased</th>\n",
       "    </tr>\n",
       "  </thead>\n",
       "  <tbody>\n",
       "    <tr>\n",
       "      <th>0</th>\n",
       "      <td>587722981741363294</td>\n",
       "      <td>original</td>\n",
       "      <td>3</td>\n",
       "      <td>587722981741363294</td>\n",
       "      <td>182.925262</td>\n",
       "      <td>-1.092357</td>\n",
       "      <td>Sb</td>\n",
       "      <td>0.459</td>\n",
       "      <td>0.681</td>\n",
       "      <td>0.000</td>\n",
       "      <td>...</td>\n",
       "      <td>0.0</td>\n",
       "      <td>0.0</td>\n",
       "      <td>0.0</td>\n",
       "      <td>0.0</td>\n",
       "      <td>0.0</td>\n",
       "      <td>0.0</td>\n",
       "      <td>0.0</td>\n",
       "      <td>0.0</td>\n",
       "      <td>0.0</td>\n",
       "      <td>0.0</td>\n",
       "    </tr>\n",
       "    <tr>\n",
       "      <th>1</th>\n",
       "      <td>587722981741363323</td>\n",
       "      <td>original</td>\n",
       "      <td>4</td>\n",
       "      <td>587722981741363323</td>\n",
       "      <td>182.970108</td>\n",
       "      <td>-1.219537</td>\n",
       "      <td>Sc?l</td>\n",
       "      <td>0.216</td>\n",
       "      <td>0.736</td>\n",
       "      <td>0.000</td>\n",
       "      <td>...</td>\n",
       "      <td>0.0</td>\n",
       "      <td>0.0</td>\n",
       "      <td>0.0</td>\n",
       "      <td>1.0</td>\n",
       "      <td>0.0</td>\n",
       "      <td>0.0</td>\n",
       "      <td>0.0</td>\n",
       "      <td>0.0</td>\n",
       "      <td>0.0</td>\n",
       "      <td>1.0</td>\n",
       "    </tr>\n",
       "    <tr>\n",
       "      <th>2</th>\n",
       "      <td>587722981741559888</td>\n",
       "      <td>original</td>\n",
       "      <td>5</td>\n",
       "      <td>587722981741559888</td>\n",
       "      <td>183.438095</td>\n",
       "      <td>-1.238414</td>\n",
       "      <td>Er</td>\n",
       "      <td>0.773</td>\n",
       "      <td>0.029</td>\n",
       "      <td>0.114</td>\n",
       "      <td>...</td>\n",
       "      <td>0.0</td>\n",
       "      <td>0.0</td>\n",
       "      <td>0.0</td>\n",
       "      <td>0.0</td>\n",
       "      <td>0.0</td>\n",
       "      <td>0.0</td>\n",
       "      <td>0.0</td>\n",
       "      <td>0.0</td>\n",
       "      <td>0.0</td>\n",
       "      <td>0.0</td>\n",
       "    </tr>\n",
       "    <tr>\n",
       "      <th>3</th>\n",
       "      <td>587722981741625481</td>\n",
       "      <td>original</td>\n",
       "      <td>6</td>\n",
       "      <td>587722981741625481</td>\n",
       "      <td>183.473999</td>\n",
       "      <td>-1.231429</td>\n",
       "      <td>Sc1t</td>\n",
       "      <td>0.152</td>\n",
       "      <td>0.639</td>\n",
       "      <td>0.009</td>\n",
       "      <td>...</td>\n",
       "      <td>0.0</td>\n",
       "      <td>1.0</td>\n",
       "      <td>0.0</td>\n",
       "      <td>0.0</td>\n",
       "      <td>1.0</td>\n",
       "      <td>0.0</td>\n",
       "      <td>0.0</td>\n",
       "      <td>0.0</td>\n",
       "      <td>0.0</td>\n",
       "      <td>0.0</td>\n",
       "    </tr>\n",
       "    <tr>\n",
       "      <th>4</th>\n",
       "      <td>587722981741625484</td>\n",
       "      <td>original</td>\n",
       "      <td>7</td>\n",
       "      <td>587722981741625484</td>\n",
       "      <td>183.477783</td>\n",
       "      <td>-1.084604</td>\n",
       "      <td>Sb</td>\n",
       "      <td>0.182</td>\n",
       "      <td>0.720</td>\n",
       "      <td>0.032</td>\n",
       "      <td>...</td>\n",
       "      <td>0.0</td>\n",
       "      <td>0.0</td>\n",
       "      <td>0.0</td>\n",
       "      <td>0.0</td>\n",
       "      <td>0.0</td>\n",
       "      <td>0.0</td>\n",
       "      <td>0.0</td>\n",
       "      <td>0.0</td>\n",
       "      <td>0.0</td>\n",
       "      <td>0.0</td>\n",
       "    </tr>\n",
       "  </tbody>\n",
       "</table>\n",
       "<p>5 rows × 44 columns</p>\n",
       "</div>"
      ],
      "text/plain": [
       "                objid    sample  asset_id            dr7objid          ra  \\\n",
       "0  587722981741363294  original         3  587722981741363294  182.925262   \n",
       "1  587722981741363323  original         4  587722981741363323  182.970108   \n",
       "2  587722981741559888  original         5  587722981741559888  183.438095   \n",
       "3  587722981741625481  original         6  587722981741625481  183.473999   \n",
       "4  587722981741625484  original         7  587722981741625484  183.477783   \n",
       "\n",
       "        dec gz2_class  t01_smooth_or_features_a01_smooth_debiased  \\\n",
       "0 -1.092357        Sb                                       0.459   \n",
       "1 -1.219537      Sc?l                                       0.216   \n",
       "2 -1.238414        Er                                       0.773   \n",
       "3 -1.231429      Sc1t                                       0.152   \n",
       "4 -1.084604        Sb                                       0.182   \n",
       "\n",
       "   t01_smooth_or_features_a02_features_or_disk_debiased  \\\n",
       "0                                              0.681      \n",
       "1                                              0.736      \n",
       "2                                              0.029      \n",
       "3                                              0.639      \n",
       "4                                              0.720      \n",
       "\n",
       "   t01_smooth_or_features_a03_star_or_artifact_debiased  ...  \\\n",
       "0                                              0.000     ...   \n",
       "1                                              0.000     ...   \n",
       "2                                              0.114     ...   \n",
       "3                                              0.009     ...   \n",
       "4                                              0.032     ...   \n",
       "\n",
       "   t09_bulge_shape_a27_no_bulge_debiased  t10_arms_winding_a28_tight_debiased  \\\n",
       "0                                    0.0                                  0.0   \n",
       "1                                    0.0                                  0.0   \n",
       "2                                    0.0                                  0.0   \n",
       "3                                    0.0                                  1.0   \n",
       "4                                    0.0                                  0.0   \n",
       "\n",
       "   t10_arms_winding_a29_medium_debiased  t10_arms_winding_a30_loose_debiased  \\\n",
       "0                                   0.0                                  0.0   \n",
       "1                                   0.0                                  1.0   \n",
       "2                                   0.0                                  0.0   \n",
       "3                                   0.0                                  0.0   \n",
       "4                                   0.0                                  0.0   \n",
       "\n",
       "   t11_arms_number_a31_1_debiased  t11_arms_number_a32_2_debiased  \\\n",
       "0                             0.0                             0.0   \n",
       "1                             0.0                             0.0   \n",
       "2                             0.0                             0.0   \n",
       "3                             1.0                             0.0   \n",
       "4                             0.0                             0.0   \n",
       "\n",
       "   t11_arms_number_a33_3_debiased  t11_arms_number_a34_4_debiased  \\\n",
       "0                             0.0                             0.0   \n",
       "1                             0.0                             0.0   \n",
       "2                             0.0                             0.0   \n",
       "3                             0.0                             0.0   \n",
       "4                             0.0                             0.0   \n",
       "\n",
       "   t11_arms_number_a36_more_than_4_debiased  \\\n",
       "0                                       0.0   \n",
       "1                                       0.0   \n",
       "2                                       0.0   \n",
       "3                                       0.0   \n",
       "4                                       0.0   \n",
       "\n",
       "   t11_arms_number_a37_cant_tell_debiased  \n",
       "0                                     0.0  \n",
       "1                                     1.0  \n",
       "2                                     0.0  \n",
       "3                                     0.0  \n",
       "4                                     0.0  \n",
       "\n",
       "[5 rows x 44 columns]"
      ]
     },
     "execution_count": 10,
     "metadata": {},
     "output_type": "execute_result"
    }
   ],
   "source": [
    "df_joined = pd.merge(df_mappings_clean, df_hart16,\n",
    "                     left_on=\"objid\",\n",
    "                     right_on=\"dr7objid\",\n",
    "                     how=\"inner\",\n",
    "                     validate=\"one_to_one\",\n",
    "                     sort=False)\n",
    "print(df_joined.shape)\n",
    "df_joined.head()"
   ]
  },
  {
   "cell_type": "markdown",
   "metadata": {},
   "source": [
    "## Check Images\n",
    "See if images in folder match up to `asset_id` in the DataFrame"
   ]
  },
  {
   "cell_type": "code",
   "execution_count": 11,
   "metadata": {},
   "outputs": [
    {
     "name": "stdout",
     "output_type": "stream",
     "text": [
      "Image count: 243434\n",
      "First 10 image names:\n"
     ]
    },
    {
     "data": {
      "text/plain": [
       "[3, 4, 5, 6, 7, 8, 9, 11, 12, 13]"
      ]
     },
     "execution_count": 11,
     "metadata": {},
     "output_type": "execute_result"
    }
   ],
   "source": [
    "# get list of all images in the image folder\n",
    "image_files = glob.glob(ORIGINAL_IMAGES_DIR + \"*.jpg\")\n",
    "print(\"Image count:\", len(image_files))\n",
    "\n",
    "# Get image names, these should match up to `asset_id`\n",
    "regex = re.compile(r\"images\\\\(\\d*)\\.jpg\")\n",
    "image_names = [int(re.search(regex, img).group(1)) for img in image_files]\n",
    "image_names.sort()\n",
    "print(\"First 10 image names:\")\n",
    "image_names[0:10]"
   ]
  },
  {
   "cell_type": "code",
   "execution_count": 12,
   "metadata": {},
   "outputs": [
    {
     "name": "stdout",
     "output_type": "stream",
     "text": [
      "Not in images, In table (drop these rows) 122\n",
      "Not in table, In images (do not process these images) 3861\n"
     ]
    }
   ],
   "source": [
    "table_asset = df_joined[\"asset_id\"].to_list()\n",
    "# create list of images that are not in images\n",
    "not_in_images = list(set(table_asset) - set(image_names))\n",
    "print(\"Not in images, In table (drop these rows)\", len(not_in_images))\n",
    "\n",
    "# create list of data that is not in the table\n",
    "not_in_table = list(set(image_names) - set(table_asset))\n",
    "print(\"Not in table, In images (do not process these images)\", len(not_in_table))"
   ]
  },
  {
   "cell_type": "markdown",
   "metadata": {},
   "source": [
    "Remove rows that do not have images"
   ]
  },
  {
   "cell_type": "code",
   "execution_count": 51,
   "metadata": {},
   "outputs": [
    {
     "data": {
      "text/plain": [
       "(239573, 44)"
      ]
     },
     "execution_count": 51,
     "metadata": {},
     "output_type": "execute_result"
    }
   ],
   "source": [
    "# Keep rows that are not in (`~`) `not_in_images` list\n",
    "df_joined_clean = df_joined[~df_joined[\"asset_id\"].isin(not_in_images)]\n",
    "df_joined_clean.shape"
   ]
  },
  {
   "cell_type": "markdown",
   "metadata": {},
   "source": [
    "Create a new column that reduces the number of `gz2_class` options. When we separate our data into testing and training, we want to stratify the data, but we can only use 1 column. The `gz2_class` column is perfect for this but there are many values that only have 1 or 2 matching rows.\n",
    "\n",
    "We will use the cutoff at `8`"
   ]
  },
  {
   "cell_type": "code",
   "execution_count": 53,
   "metadata": {},
   "outputs": [
    {
     "name": "stdout",
     "output_type": "stream",
     "text": [
      "Total classes: 818\n"
     ]
    },
    {
     "data": {
      "text/plain": [
       "SBc+l       7\n",
       "Sd4m(i)     7\n",
       "Sc4t(o)     7\n",
       "SBb3t(m)    7\n",
       "SBc2t(u)    7\n",
       "           ..\n",
       "SBc4t(u)    1\n",
       "SBc+l(m)    1\n",
       "Sa?l(i)     1\n",
       "SBd+m(i)    1\n",
       "Sd3m(o)     1\n",
       "Name: gz2_class, Length: 348, dtype: int64"
      ]
     },
     "execution_count": 53,
     "metadata": {},
     "output_type": "execute_result"
    }
   ],
   "source": [
    "gz2class_vc = df_hart16[\"gz2_class\"].value_counts()\n",
    "print(\"Total classes:\", gz2class_vc.shape[0])\n",
    "\n",
    "very_rare_classes = gz2class_vc.loc[gz2class_vc < 8]\n",
    "very_rare_classes"
   ]
  },
  {
   "cell_type": "code",
   "execution_count": 48,
   "metadata": {},
   "outputs": [
    {
     "name": "stdout",
     "output_type": "stream",
     "text": [
      "Original very rare classes count: 348\n",
      "Reduced very rare classes count: 95\n"
     ]
    }
   ],
   "source": [
    "regex_spiral_arm_and_winding = re.compile(r\"([1234+?][tml])\")\n",
    "\n",
    "def convert_rare_class(original_class_name: str) -> str:\n",
    "    \"\"\"Removes the spiral arm count and spiral winding parts of a\n",
    "    string if there is a rare feature: (x)\n",
    "\n",
    "    Use this to reduce the amount of gz2_class strings for better stratifying\n",
    "\n",
    "    :param original_class_name: GZ2 Class name\n",
    "    :return: Class name without spiral parts\n",
    "    \"\"\"\n",
    "    # If there is no rare feature, don't change the class\n",
    "    if not original_class_name.endswith(\")\"):\n",
    "        return original_class_name\n",
    "    \n",
    "    # Elliptical galaxies probably are not here anyways\n",
    "    if original_class_name.startswith(\"E\"):\n",
    "        return original_class_name\n",
    "    \n",
    "    # Get the (x) feature\n",
    "    rare_feature = original_class_name[-3:]\n",
    "    \n",
    "    # Check for spiral arm count and winding\n",
    "    re_match = re.search(regex_spiral_arm_and_winding, original_class_name)\n",
    "    if re_match is not None:\n",
    "        # Get the shape, bar, bulge prominence & combine with rare feature\n",
    "        shape_bar_bulge = original_class_name[:-5]\n",
    "        return shape_bar_bulge + rare_feature\n",
    "    else:\n",
    "        # Nothing to remove, return original\n",
    "        return original_class_name\n",
    "\n",
    "# Reduce number of rare classes\n",
    "very_rare_class_mapping = {}\n",
    "for orig_class_name in very_rare_classes.index.to_list():\n",
    "    new_name = convert_rare_class(orig_class_name)\n",
    "    very_rare_class_mapping[orig_class_name] = new_name\n",
    "\n",
    "# count of new classes\n",
    "print(\"Original very rare classes count:\", len(very_rare_classes.index.to_list()))\n",
    "print(\"Reduced very rare classes count:\", len(set(very_rare_class_mapping.values())))"
   ]
  },
  {
   "cell_type": "code",
   "execution_count": 56,
   "metadata": {},
   "outputs": [
    {
     "name": "stdout",
     "output_type": "stream",
     "text": [
      "Total reduced classes: 525\n"
     ]
    },
    {
     "name": "stderr",
     "output_type": "stream",
     "text": [
      "C:\\Users\\Zachary\\AppData\\Local\\Temp\\ipykernel_13664\\2020128925.py:2: SettingWithCopyWarning: \n",
      "A value is trying to be set on a copy of a slice from a DataFrame.\n",
      "Try using .loc[row_indexer,col_indexer] = value instead\n",
      "\n",
      "See the caveats in the documentation: https://pandas.pydata.org/pandas-docs/stable/user_guide/indexing.html#returning-a-view-versus-a-copy\n",
      "  df_joined_clean[\"class_reduced\"] = df_joined_clean[\"gz2_class\"].replace(very_rare_class_mapping)\n"
     ]
    }
   ],
   "source": [
    "# create a new column from `gz2_class` and replace the rare classes with our new classes\n",
    "df_joined_clean[\"class_reduced\"] = df_joined_clean[\"gz2_class\"].replace(very_rare_class_mapping)\n",
    "print(\"Total reduced classes:\", df_joined_clean[\"class_reduced\"].value_counts().shape[0])"
   ]
  },
  {
   "cell_type": "markdown",
   "metadata": {},
   "source": [
    "# Clean Images\n",
    "Process for cleaning images:\n",
    "- Skip if image in `not_in_table` list\n",
    "- Find main central feature of image\n",
    "- Crop to feature\n",
    "- Convert to gray-scale\n",
    "- Scale down to 106×106 (¼ original size of 424×424)\n",
    "- Save to new folder with same name"
   ]
  },
  {
   "cell_type": "code",
   "execution_count": null,
   "metadata": {},
   "outputs": [],
   "source": []
  }
 ],
 "metadata": {
  "kernelspec": {
   "display_name": "PythonData39",
   "language": "python",
   "name": "python3"
  },
  "language_info": {
   "codemirror_mode": {
    "name": "ipython",
    "version": 3
   },
   "file_extension": ".py",
   "mimetype": "text/x-python",
   "name": "python",
   "nbconvert_exporter": "python",
   "pygments_lexer": "ipython3",
   "version": "3.9.16"
  },
  "orig_nbformat": 4
 },
 "nbformat": 4,
 "nbformat_minor": 2
}
